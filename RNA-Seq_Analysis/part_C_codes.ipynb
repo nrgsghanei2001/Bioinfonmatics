{
 "cells": [
  {
   "cell_type": "markdown",
   "metadata": {},
   "source": [
    "### part C"
   ]
  },
  {
   "cell_type": "code",
   "execution_count": 38,
   "metadata": {},
   "outputs": [],
   "source": [
    "import pandas as pd\n",
    "df_merge = pd.read_csv ('merged_count_matrix.txt', sep='\\t', header=None, names=['name', 'first', 'second'])\n"
   ]
  },
  {
   "cell_type": "code",
   "execution_count": 2,
   "metadata": {},
   "outputs": [],
   "source": [
    "df_merge ['equal'] = df_merge ['first'].eq (df_merge ['second'])\n"
   ]
  },
  {
   "cell_type": "code",
   "execution_count": 3,
   "metadata": {},
   "outputs": [
    {
     "data": {
      "text/plain": [
       "False    41529\n",
       "True     19975\n",
       "Name: equal, dtype: int64"
      ]
     },
     "execution_count": 3,
     "metadata": {},
     "output_type": "execute_result"
    }
   ],
   "source": [
    "df_merge ['equal'].value_counts ()\n"
   ]
  },
  {
   "cell_type": "markdown",
   "metadata": {},
   "source": [
    "Read the counting data"
   ]
  },
  {
   "cell_type": "code",
   "execution_count": 9,
   "metadata": {},
   "outputs": [],
   "source": [
    "import pandas as pd\n",
    "df1 = pd.read_csv ('counting1.txt', sep='\\t', header=None, names=['name', 'expression'])\n",
    "df2 = pd.read_csv ('counting2.txt', sep='\\t', header=None, names=['name', 'expression'])"
   ]
  },
  {
   "cell_type": "markdown",
   "metadata": {},
   "source": [
    "calculate not expressed genes"
   ]
  },
  {
   "cell_type": "code",
   "execution_count": 16,
   "metadata": {},
   "outputs": [
    {
     "name": "stdout",
     "output_type": "stream",
     "text": [
      "Number of genes that are not expressed in tumor samples:  20879\n",
      "Number of genes that are not expressed in control samples:  22445\n",
      "percentage of not expressed tumor genes:  33.95 %\n",
      "percentage of not expressed control genes:  36.49 %\n"
     ]
    }
   ],
   "source": [
    "import numpy as np\n",
    "\n",
    "not_expressed_tumor = 0\n",
    "not_expressed_control = 0\n",
    "\n",
    "for i in range(len(df1[\"expression\"])):\n",
    "    if df1[\"expression\"][i] == 0:\n",
    "        not_expressed_tumor += 1\n",
    "\n",
    "for i in range(len(df2[\"expression\"])):\n",
    "    if df2[\"expression\"][i] == 0:\n",
    "        not_expressed_control += 1\n",
    "\n",
    "print(\"Number of genes that are not expressed in tumor samples: \", not_expressed_tumor)\n",
    "print(\"Number of genes that are not expressed in control samples: \", not_expressed_control)\n",
    "print(\"percentage of not expressed tumor genes: \", np.round(not_expressed_tumor/(len(df1[\"expression\"])), 4)*100, \"%\") \n",
    "print(\"percentage of not expressed control genes: \", np.round(not_expressed_control/(len(df2[\"expression\"])), 4)*100, \"%\") "
   ]
  },
  {
   "cell_type": "code",
   "execution_count": 17,
   "metadata": {},
   "outputs": [
    {
     "name": "stderr",
     "output_type": "stream",
     "text": [
      "C:\\Users\\ASC\\AppData\\Local\\Temp\\ipykernel_22092\\4144984209.py:1: DtypeWarning: Columns (3,4,5,6,7,8,9,10,11,12,13,14,15,16,17,18,19,20,21,22,23,24,25,26,27,28,29,30,31,32,33,34,35,36,37,38,39,40,41,42,43) have mixed types. Specify dtype option on import or set low_memory=False.\n",
      "  df = pd.read_csv ('GSE104836_gene_exp.txt', sep='\\t', header=None, names=['gene','Pos','Strand','Length','X101C_COUNT','X101N_COUNT','X111C_COUNT','X111N_COUNT','X112C_COUNT','X112N_COUNT','X29C_COUNT','X29N_COUNT','X34C_COUNT','X34N_COUNT','X48C_COUNT','X48N_COUNT','X55C_COUNT','X55N_COUNT','X57C_COUNT','X57N_COUNT','X91C_COUNT','X91N_COUNT','X94C_COUNT','X94N_COUNT','X101C_TPM','X101N_TPM','X111C_TPM','X111N_TPM','X112C_TPM','X112N_TPM','X29C_TPM','X29N_TPM','X34C_TPM','X34N_TPM','X48C_TPM','X48N_TPM','X55C_TPM','X55N_TPM','X57C_TPM','X57N_TPM','X91C_TPM','X91N_TPM','X94C_TPM','X94N_TPM','Web'])\n"
     ]
    }
   ],
   "source": [
    "df = pd.read_csv ('GSE104836_gene_exp.txt', sep='\\t', header=None, names=['gene','Pos','Strand','Length','X101C_COUNT','X101N_COUNT','X111C_COUNT','X111N_COUNT','X112C_COUNT','X112N_COUNT','X29C_COUNT','X29N_COUNT','X34C_COUNT','X34N_COUNT','X48C_COUNT','X48N_COUNT','X55C_COUNT','X55N_COUNT','X57C_COUNT','X57N_COUNT','X91C_COUNT','X91N_COUNT','X94C_COUNT','X94N_COUNT','X101C_TPM','X101N_TPM','X111C_TPM','X111N_TPM','X112C_TPM','X112N_TPM','X29C_TPM','X29N_TPM','X34C_TPM','X34N_TPM','X48C_TPM','X48N_TPM','X55C_TPM','X55N_TPM','X57C_TPM','X57N_TPM','X91C_TPM','X91N_TPM','X94C_TPM','X94N_TPM','Web'])"
   ]
  },
  {
   "cell_type": "code",
   "execution_count": 36,
   "metadata": {},
   "outputs": [],
   "source": [
    "columns_to_select = ['gene', 'X48C_COUNT', 'X48N_COUNT']\n",
    "new_df = df[columns_to_select].copy()"
   ]
  },
  {
   "cell_type": "code",
   "execution_count": 37,
   "metadata": {},
   "outputs": [
    {
     "name": "stdout",
     "output_type": "stream",
     "text": [
      "3.82\n",
      "4.64\n"
     ]
    }
   ],
   "source": [
    "not_expressed_main = 0\n",
    "\n",
    "for i in range(1, len(new_df[\"X48C_COUNT\"])):\n",
    "    if new_df[\"X48C_COUNT\"][i] == 0:\n",
    "        not_expressed_main += 1\n",
    "\n",
    "not_expressed_main2 = 0\n",
    "\n",
    "for i in range(1, len(new_df[\"X48N_COUNT\"])):\n",
    "    if new_df[\"X48N_COUNT\"][i] == 0:\n",
    "        not_expressed_main2 += 1\n",
    "\n",
    "print(np.round(not_expressed_main/len(df[\"X48C_COUNT\"]), 4)*100)\n",
    "print(np.round(not_expressed_main2/len(df[\"X48N_COUNT\"]), 4)*100)"
   ]
  },
  {
   "cell_type": "code",
   "execution_count": 47,
   "metadata": {},
   "outputs": [
    {
     "name": "stderr",
     "output_type": "stream",
     "text": [
      "C:\\Users\\ASC\\AppData\\Local\\Temp\\ipykernel_22092\\3957666596.py:3: DtypeWarning: Columns (0) have mixed types. Specify dtype option on import or set low_memory=False.\n",
      "  df_homo = pd.read_csv ('Homo_sapiens.GRCh38.106.chr.gtf', sep='\\t', header=None, names=cols)\n"
     ]
    }
   ],
   "source": [
    "import pandas as pd\n",
    "cols = [\"seqid\", \"source\",\"type\",\"start\", \"end\", \"score\",\"strand\", \"phase\", \"gene_id\", \"gene_version\",\"gene_name\",\"gene_source\",\"gene_biotype\" ,\"transcript_id\",\"transcript_version\", \"transcript_name\", \"transcript_source\",\"transcript_biotype\",\"tag\",\"ccds_id\", \"transcript_support_level\",\"exon_number\", \"exon_id\",\"exon_version\",\"protein_id\", \"protein_version\"]\n",
    "df_homo = pd.read_csv ('Homo_sapiens.GRCh38.106.chr.gtf', sep='\\t', comment='#', header=None, names=cols)"
   ]
  },
  {
   "cell_type": "code",
   "execution_count": 35,
   "metadata": {},
   "outputs": [],
   "source": [
    "gene_geneID_map = {}\n",
    "\n",
    "for i in range(len(df_homo[\"gene_id\"])):\n",
    "    gene_geneID_map[df_homo[\"gene_id\"][i]] = df_homo[\"gene_name\"][i]"
   ]
  },
  {
   "cell_type": "code",
   "execution_count": null,
   "metadata": {},
   "outputs": [],
   "source": [
    "import csv\n",
    "\n",
    "csv_file = 'compair.csv'\n",
    "\n",
    "# Writing data to the CSV file\n",
    "with open(csv_file, 'w', newline='') as file:\n",
    "    writer = csv.writer(file)\n",
    "    for i in range(1, len(new_df[\"gene\"])):\n",
    "        geneId = new_df[\"gene\"][i]\n",
    "        gene_name = gene_geneID_map[geneId]\n",
    "        for j in range(len(df_merge[\"name\"])):\n",
    "            if df_merge[\"name\"][j] == gene_name:\n",
    "                row = [gene_name, new_df[\"X48C_COUNT\"][i], new_df[\"X48N_COUNT\"][i], df_merge[\"first\"][j], df_merge[\"second\"][j]]\n",
    "                break\n",
    "        writer.writerows(row)\n",
    "\n",
    "\n",
    "\n"
   ]
  }
 ],
 "metadata": {
  "kernelspec": {
   "display_name": "Python 3",
   "language": "python",
   "name": "python3"
  },
  "language_info": {
   "codemirror_mode": {
    "name": "ipython",
    "version": 3
   },
   "file_extension": ".py",
   "mimetype": "text/x-python",
   "name": "python",
   "nbconvert_exporter": "python",
   "pygments_lexer": "ipython3",
   "version": "3.9.13"
  }
 },
 "nbformat": 4,
 "nbformat_minor": 2
}
